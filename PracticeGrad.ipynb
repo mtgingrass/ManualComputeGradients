{
 "cells": [
  {
   "cell_type": "markdown",
   "metadata": {},
   "source": [
    "<H1>Manually Compute Gradients</H1>\n",
    "<h4>\n",
    "<p>Welcome to my GitHub. I am going to attempt to learn Python, Machine Learning, and Self Driving Car Engineering all at the same time!</p>\n",
    "\n",
    "<p>I would say I have the equivelent of a Junior level engineer in Math and programming experience. However, I haven't written code in many, many years.<p>\n",
    "\n",
    "<p>This is where this GitHub project comes in. I plan on documenting all the extra thoughts, steps, and troubleshooting steps I do, as a not so seasoned programmer. In hopes that it can teach someone else to learn from my mistakes or insights even faster<p></h4>"
   ]
  },
  {
   "cell_type": "code",
   "execution_count": 1,
   "metadata": {
    "collapsed": true
   },
   "outputs": [],
   "source": [
    "# Imports\n",
    "import tensorflow as tf\n",
    "import numpy as np\n",
    "from sklearn.datasets import fetch_california_housing"
   ]
  },
  {
   "cell_type": "code",
   "execution_count": 10,
   "metadata": {},
   "outputs": [
    {
     "name": "stdout",
     "output_type": "stream",
     "text": [
      "(20640, 8)\n",
      "(20640, 9)\n",
      "[  1.00000000e+00   8.30140000e+00   2.10000000e+01   6.23813708e+00\n",
      "   9.71880492e-01   2.40100000e+03   2.10984183e+00   3.78600000e+01\n",
      "  -1.22220000e+02]\n"
     ]
    }
   ],
   "source": [
    "housing = fetch_california_housing() # sklearn makes using data sets easy!\n",
    "m, n = housing.data.shape # Unlike C++, you can return multiple values from functions\n",
    "\n",
    "#Print housing.data.shape before augmenting it with a bias\n",
    "print(housing.data.shape)\n",
    "\n",
    "# Adding bias with this clever trick. Basically, it's concatenating a vector of \"1\"s with length m\n",
    "# to the housing.data data. It adds a bias \"feature\"\n",
    "housing_data_plus_bias = np.c_[np.ones((m, 1)), housing.data]\n",
    "\n",
    "# Just to show that a feature was infact added tot he housing.data\n",
    "print(housing_data_plus_bias.shape)\n",
    "\n",
    "# Just for fun, let's print out the first row of the dataset\n",
    "print(housing_data_plus_bias[1])"
   ]
  },
  {
   "cell_type": "code",
   "execution_count": null,
   "metadata": {},
   "outputs": [],
   "source": []
  },
  {
   "cell_type": "code",
   "execution_count": null,
   "metadata": {
    "collapsed": true
   },
   "outputs": [],
   "source": []
  }
 ],
 "metadata": {
  "kernelspec": {
   "display_name": "Python 3",
   "language": "python",
   "name": "python3"
  },
  "language_info": {
   "codemirror_mode": {
    "name": "ipython",
    "version": 3
   },
   "file_extension": ".py",
   "mimetype": "text/x-python",
   "name": "python",
   "nbconvert_exporter": "python",
   "pygments_lexer": "ipython3",
   "version": "3.6.3"
  }
 },
 "nbformat": 4,
 "nbformat_minor": 2
}
